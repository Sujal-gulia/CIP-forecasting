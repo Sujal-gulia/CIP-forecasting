{
 "cells": [
  {
   "cell_type": "code",
   "execution_count": 61,
   "id": "4888e1bf",
   "metadata": {},
   "outputs": [],
   "source": [
    "import numpy as np\n",
    "import pandas as pd\n",
    "from datetime import datetime\n",
    "import matplotlib.pyplot as plt\n",
    "import seaborn as sns\n",
    "from sktime.split import temporal_train_test_split\n",
    "from sktime.param_est.stationarity import StationarityADF\n",
    "from sktime.transformations.series.difference import Differencer\n",
    "from statsmodels.tsa.stattools import grangercausalitytests\n",
    "from sktime.utils.plotting import plot_series\n",
    "from sktime.forecasting.naive import NaiveForecaster\n",
    "from sktime.forecasting.ets import AutoETS\n",
    "from sktime.forecasting.var import VAR\n",
    "from sktime.performance_metrics.forecasting import mean_absolute_percentage_error\n",
    "from sklearn.impute import SimpleImputer\n",
    "from sklearn.preprocessing import StandardScaler\n",
    "from sklearn.decomposition import KernelPCA\n",
    "from sklearn.metrics import mean_absolute_error, mean_squared_error"
   ]
  },
  {
   "cell_type": "code",
   "execution_count": 62,
   "metadata": {},
   "outputs": [
    {
     "data": {
      "text/html": [
       "<div>\n",
       "<style scoped>\n",
       "    .dataframe tbody tr th:only-of-type {\n",
       "        vertical-align: middle;\n",
       "    }\n",
       "\n",
       "    .dataframe tbody tr th {\n",
       "        vertical-align: top;\n",
       "    }\n",
       "\n",
       "    .dataframe thead th {\n",
       "        text-align: right;\n",
       "    }\n",
       "</style>\n",
       "<table border=\"1\" class=\"dataframe\">\n",
       "  <thead>\n",
       "    <tr style=\"text-align: right;\">\n",
       "      <th></th>\n",
       "      <th>Period</th>\n",
       "      <th>Consumer Price Index  (2012=100)</th>\n",
       "      <th>Index of Industrial Production</th>\n",
       "      <th>Wholesale Price Index (2011-12=100)</th>\n",
       "      <th>Consumer Price Index for Agricultural Labourer</th>\n",
       "      <th>Consumer Price Index for Rural Labourer</th>\n",
       "      <th>Consumer Price Index for Food and Beverages</th>\n",
       "      <th>Net Foreign Direct Investment (US $ Million)</th>\n",
       "      <th>FCNR(B)-Foreign Currency Non-Resident (Banks) (US $ Million)</th>\n",
       "      <th>Foreign Trade Exports Total (US $ Million)</th>\n",
       "      <th>...</th>\n",
       "      <th>Consumer Price Index for Rural Labourer_lag_3</th>\n",
       "      <th>Consumer Price Index for Rural Labourer_lag_4</th>\n",
       "      <th>Consumer Price Index for Rural Labourer_lag_5</th>\n",
       "      <th>Consumer Price Index for Rural Labourer_lag_6</th>\n",
       "      <th>Consumer Price Index for Food and Beverages_lag_1</th>\n",
       "      <th>Consumer Price Index for Food and Beverages_lag_2</th>\n",
       "      <th>Consumer Price Index for Food and Beverages_lag_3</th>\n",
       "      <th>Consumer Price Index for Food and Beverages_lag_4</th>\n",
       "      <th>Consumer Price Index for Food and Beverages_lag_5</th>\n",
       "      <th>Consumer Price Index for Food and Beverages_lag_6</th>\n",
       "    </tr>\n",
       "  </thead>\n",
       "  <tbody>\n",
       "    <tr>\n",
       "      <th>0</th>\n",
       "      <td>2018-11-01</td>\n",
       "      <td>140.8</td>\n",
       "      <td>126.1</td>\n",
       "      <td>121.6</td>\n",
       "      <td>914.0</td>\n",
       "      <td>921.0</td>\n",
       "      <td>139.7</td>\n",
       "      <td>1076.61</td>\n",
       "      <td>20433.31</td>\n",
       "      <td>26071.56</td>\n",
       "      <td>...</td>\n",
       "      <td>909.000000</td>\n",
       "      <td>903.666667</td>\n",
       "      <td>899.000000</td>\n",
       "      <td>896.333333</td>\n",
       "      <td>140.666667</td>\n",
       "      <td>141.166667</td>\n",
       "      <td>140.833333</td>\n",
       "      <td>139.633333</td>\n",
       "      <td>138.333333</td>\n",
       "      <td>137.600000</td>\n",
       "    </tr>\n",
       "    <tr>\n",
       "      <th>1</th>\n",
       "      <td>2018-12-01</td>\n",
       "      <td>140.1</td>\n",
       "      <td>133.9</td>\n",
       "      <td>119.7</td>\n",
       "      <td>913.0</td>\n",
       "      <td>921.0</td>\n",
       "      <td>138.2</td>\n",
       "      <td>3112.49</td>\n",
       "      <td>20839.86</td>\n",
       "      <td>27858.29</td>\n",
       "      <td>...</td>\n",
       "      <td>914.000000</td>\n",
       "      <td>909.000000</td>\n",
       "      <td>903.666667</td>\n",
       "      <td>899.000000</td>\n",
       "      <td>140.000000</td>\n",
       "      <td>140.666667</td>\n",
       "      <td>141.166667</td>\n",
       "      <td>140.833333</td>\n",
       "      <td>139.633333</td>\n",
       "      <td>138.333333</td>\n",
       "    </tr>\n",
       "    <tr>\n",
       "      <th>2</th>\n",
       "      <td>2019-01-01</td>\n",
       "      <td>139.6</td>\n",
       "      <td>134.4</td>\n",
       "      <td>119.2</td>\n",
       "      <td>915.0</td>\n",
       "      <td>923.0</td>\n",
       "      <td>137.4</td>\n",
       "      <td>3681.52</td>\n",
       "      <td>21413.04</td>\n",
       "      <td>26407.36</td>\n",
       "      <td>...</td>\n",
       "      <td>917.333333</td>\n",
       "      <td>914.000000</td>\n",
       "      <td>909.000000</td>\n",
       "      <td>903.666667</td>\n",
       "      <td>139.266667</td>\n",
       "      <td>140.000000</td>\n",
       "      <td>140.666667</td>\n",
       "      <td>141.166667</td>\n",
       "      <td>140.833333</td>\n",
       "      <td>139.633333</td>\n",
       "    </tr>\n",
       "    <tr>\n",
       "      <th>3</th>\n",
       "      <td>2019-02-01</td>\n",
       "      <td>139.9</td>\n",
       "      <td>127.6</td>\n",
       "      <td>119.5</td>\n",
       "      <td>917.0</td>\n",
       "      <td>925.0</td>\n",
       "      <td>137.5</td>\n",
       "      <td>1949.20</td>\n",
       "      <td>21623.30</td>\n",
       "      <td>26862.08</td>\n",
       "      <td>...</td>\n",
       "      <td>919.333333</td>\n",
       "      <td>917.333333</td>\n",
       "      <td>914.000000</td>\n",
       "      <td>909.000000</td>\n",
       "      <td>138.433333</td>\n",
       "      <td>139.266667</td>\n",
       "      <td>140.000000</td>\n",
       "      <td>140.666667</td>\n",
       "      <td>141.166667</td>\n",
       "      <td>140.833333</td>\n",
       "    </tr>\n",
       "    <tr>\n",
       "      <th>4</th>\n",
       "      <td>2019-03-01</td>\n",
       "      <td>140.4</td>\n",
       "      <td>144.1</td>\n",
       "      <td>119.9</td>\n",
       "      <td>924.0</td>\n",
       "      <td>932.0</td>\n",
       "      <td>138.1</td>\n",
       "      <td>789.18</td>\n",
       "      <td>23170.18</td>\n",
       "      <td>32725.19</td>\n",
       "      <td>...</td>\n",
       "      <td>920.666667</td>\n",
       "      <td>919.333333</td>\n",
       "      <td>917.333333</td>\n",
       "      <td>914.000000</td>\n",
       "      <td>137.700000</td>\n",
       "      <td>138.433333</td>\n",
       "      <td>139.266667</td>\n",
       "      <td>140.000000</td>\n",
       "      <td>140.666667</td>\n",
       "      <td>141.166667</td>\n",
       "    </tr>\n",
       "  </tbody>\n",
       "</table>\n",
       "<p>5 rows × 44 columns</p>\n",
       "</div>"
      ],
      "text/plain": [
       "       Period  Consumer Price Index  (2012=100)  \\\n",
       "0  2018-11-01                             140.8   \n",
       "1  2018-12-01                             140.1   \n",
       "2  2019-01-01                             139.6   \n",
       "3  2019-02-01                             139.9   \n",
       "4  2019-03-01                             140.4   \n",
       "\n",
       "   Index of Industrial Production  Wholesale Price Index (2011-12=100)  \\\n",
       "0                           126.1                                121.6   \n",
       "1                           133.9                                119.7   \n",
       "2                           134.4                                119.2   \n",
       "3                           127.6                                119.5   \n",
       "4                           144.1                                119.9   \n",
       "\n",
       "   Consumer Price Index for Agricultural Labourer  \\\n",
       "0                                           914.0   \n",
       "1                                           913.0   \n",
       "2                                           915.0   \n",
       "3                                           917.0   \n",
       "4                                           924.0   \n",
       "\n",
       "   Consumer Price Index for Rural Labourer  \\\n",
       "0                                    921.0   \n",
       "1                                    921.0   \n",
       "2                                    923.0   \n",
       "3                                    925.0   \n",
       "4                                    932.0   \n",
       "\n",
       "   Consumer Price Index for Food and Beverages  \\\n",
       "0                                        139.7   \n",
       "1                                        138.2   \n",
       "2                                        137.4   \n",
       "3                                        137.5   \n",
       "4                                        138.1   \n",
       "\n",
       "   Net Foreign Direct Investment (US $ Million)  \\\n",
       "0                                       1076.61   \n",
       "1                                       3112.49   \n",
       "2                                       3681.52   \n",
       "3                                       1949.20   \n",
       "4                                        789.18   \n",
       "\n",
       "   FCNR(B)-Foreign Currency Non-Resident (Banks) (US $ Million)  \\\n",
       "0                                           20433.31              \n",
       "1                                           20839.86              \n",
       "2                                           21413.04              \n",
       "3                                           21623.30              \n",
       "4                                           23170.18              \n",
       "\n",
       "   Foreign Trade Exports Total (US $ Million)  ...  \\\n",
       "0                                    26071.56  ...   \n",
       "1                                    27858.29  ...   \n",
       "2                                    26407.36  ...   \n",
       "3                                    26862.08  ...   \n",
       "4                                    32725.19  ...   \n",
       "\n",
       "   Consumer Price Index for Rural Labourer_lag_3  \\\n",
       "0                                     909.000000   \n",
       "1                                     914.000000   \n",
       "2                                     917.333333   \n",
       "3                                     919.333333   \n",
       "4                                     920.666667   \n",
       "\n",
       "   Consumer Price Index for Rural Labourer_lag_4  \\\n",
       "0                                     903.666667   \n",
       "1                                     909.000000   \n",
       "2                                     914.000000   \n",
       "3                                     917.333333   \n",
       "4                                     919.333333   \n",
       "\n",
       "   Consumer Price Index for Rural Labourer_lag_5  \\\n",
       "0                                     899.000000   \n",
       "1                                     903.666667   \n",
       "2                                     909.000000   \n",
       "3                                     914.000000   \n",
       "4                                     917.333333   \n",
       "\n",
       "   Consumer Price Index for Rural Labourer_lag_6  \\\n",
       "0                                     896.333333   \n",
       "1                                     899.000000   \n",
       "2                                     903.666667   \n",
       "3                                     909.000000   \n",
       "4                                     914.000000   \n",
       "\n",
       "   Consumer Price Index for Food and Beverages_lag_1  \\\n",
       "0                                         140.666667   \n",
       "1                                         140.000000   \n",
       "2                                         139.266667   \n",
       "3                                         138.433333   \n",
       "4                                         137.700000   \n",
       "\n",
       "   Consumer Price Index for Food and Beverages_lag_2  \\\n",
       "0                                         141.166667   \n",
       "1                                         140.666667   \n",
       "2                                         140.000000   \n",
       "3                                         139.266667   \n",
       "4                                         138.433333   \n",
       "\n",
       "   Consumer Price Index for Food and Beverages_lag_3  \\\n",
       "0                                         140.833333   \n",
       "1                                         141.166667   \n",
       "2                                         140.666667   \n",
       "3                                         140.000000   \n",
       "4                                         139.266667   \n",
       "\n",
       "   Consumer Price Index for Food and Beverages_lag_4  \\\n",
       "0                                         139.633333   \n",
       "1                                         140.833333   \n",
       "2                                         141.166667   \n",
       "3                                         140.666667   \n",
       "4                                         140.000000   \n",
       "\n",
       "   Consumer Price Index for Food and Beverages_lag_5  \\\n",
       "0                                         138.333333   \n",
       "1                                         139.633333   \n",
       "2                                         140.833333   \n",
       "3                                         141.166667   \n",
       "4                                         140.666667   \n",
       "\n",
       "   Consumer Price Index for Food and Beverages_lag_6  \n",
       "0                                         137.600000  \n",
       "1                                         138.333333  \n",
       "2                                         139.633333  \n",
       "3                                         140.833333  \n",
       "4                                         141.166667  \n",
       "\n",
       "[5 rows x 44 columns]"
      ]
     },
     "execution_count": 62,
     "metadata": {},
     "output_type": "execute_result"
    }
   ],
   "source": [
    "df = pd.read_csv('final.csv')\n",
    "df.head()"
   ]
  },
  {
   "cell_type": "code",
   "execution_count": 63,
   "id": "56baa50a",
   "metadata": {},
   "outputs": [
    {
     "data": {
      "text/html": [
       "<div>\n",
       "<style scoped>\n",
       "    .dataframe tbody tr th:only-of-type {\n",
       "        vertical-align: middle;\n",
       "    }\n",
       "\n",
       "    .dataframe tbody tr th {\n",
       "        vertical-align: top;\n",
       "    }\n",
       "\n",
       "    .dataframe thead th {\n",
       "        text-align: right;\n",
       "    }\n",
       "</style>\n",
       "<table border=\"1\" class=\"dataframe\">\n",
       "  <thead>\n",
       "    <tr style=\"text-align: right;\">\n",
       "      <th></th>\n",
       "      <th>Consumer Price Index  (2012=100)</th>\n",
       "      <th>Index of Industrial Production</th>\n",
       "      <th>Wholesale Price Index (2011-12=100)</th>\n",
       "      <th>Consumer Price Index for Agricultural Labourer</th>\n",
       "      <th>Consumer Price Index for Rural Labourer</th>\n",
       "      <th>Consumer Price Index for Food and Beverages</th>\n",
       "      <th>Net Foreign Direct Investment (US $ Million)</th>\n",
       "      <th>FCNR(B)-Foreign Currency Non-Resident (Banks) (US $ Million)</th>\n",
       "      <th>Foreign Trade Exports Total (US $ Million)</th>\n",
       "      <th>Foreign Trade Imports Total (US $ Million)</th>\n",
       "      <th>...</th>\n",
       "      <th>Consumer Price Index for Rural Labourer_lag_3</th>\n",
       "      <th>Consumer Price Index for Rural Labourer_lag_4</th>\n",
       "      <th>Consumer Price Index for Rural Labourer_lag_5</th>\n",
       "      <th>Consumer Price Index for Rural Labourer_lag_6</th>\n",
       "      <th>Consumer Price Index for Food and Beverages_lag_1</th>\n",
       "      <th>Consumer Price Index for Food and Beverages_lag_2</th>\n",
       "      <th>Consumer Price Index for Food and Beverages_lag_3</th>\n",
       "      <th>Consumer Price Index for Food and Beverages_lag_4</th>\n",
       "      <th>Consumer Price Index for Food and Beverages_lag_5</th>\n",
       "      <th>Consumer Price Index for Food and Beverages_lag_6</th>\n",
       "    </tr>\n",
       "    <tr>\n",
       "      <th>Period</th>\n",
       "      <th></th>\n",
       "      <th></th>\n",
       "      <th></th>\n",
       "      <th></th>\n",
       "      <th></th>\n",
       "      <th></th>\n",
       "      <th></th>\n",
       "      <th></th>\n",
       "      <th></th>\n",
       "      <th></th>\n",
       "      <th></th>\n",
       "      <th></th>\n",
       "      <th></th>\n",
       "      <th></th>\n",
       "      <th></th>\n",
       "      <th></th>\n",
       "      <th></th>\n",
       "      <th></th>\n",
       "      <th></th>\n",
       "      <th></th>\n",
       "      <th></th>\n",
       "    </tr>\n",
       "  </thead>\n",
       "  <tbody>\n",
       "    <tr>\n",
       "      <th>2018-11-01</th>\n",
       "      <td>140.8</td>\n",
       "      <td>126.1</td>\n",
       "      <td>121.6</td>\n",
       "      <td>914.0</td>\n",
       "      <td>921.0</td>\n",
       "      <td>139.7</td>\n",
       "      <td>1076.61</td>\n",
       "      <td>20433.31</td>\n",
       "      <td>26071.56</td>\n",
       "      <td>43655.19</td>\n",
       "      <td>...</td>\n",
       "      <td>909.000000</td>\n",
       "      <td>903.666667</td>\n",
       "      <td>899.000000</td>\n",
       "      <td>896.333333</td>\n",
       "      <td>140.666667</td>\n",
       "      <td>141.166667</td>\n",
       "      <td>140.833333</td>\n",
       "      <td>139.633333</td>\n",
       "      <td>138.333333</td>\n",
       "      <td>137.600000</td>\n",
       "    </tr>\n",
       "    <tr>\n",
       "      <th>2018-12-01</th>\n",
       "      <td>140.1</td>\n",
       "      <td>133.9</td>\n",
       "      <td>119.7</td>\n",
       "      <td>913.0</td>\n",
       "      <td>921.0</td>\n",
       "      <td>138.2</td>\n",
       "      <td>3112.49</td>\n",
       "      <td>20839.86</td>\n",
       "      <td>27858.29</td>\n",
       "      <td>42351.02</td>\n",
       "      <td>...</td>\n",
       "      <td>914.000000</td>\n",
       "      <td>909.000000</td>\n",
       "      <td>903.666667</td>\n",
       "      <td>899.000000</td>\n",
       "      <td>140.000000</td>\n",
       "      <td>140.666667</td>\n",
       "      <td>141.166667</td>\n",
       "      <td>140.833333</td>\n",
       "      <td>139.633333</td>\n",
       "      <td>138.333333</td>\n",
       "    </tr>\n",
       "    <tr>\n",
       "      <th>2019-01-01</th>\n",
       "      <td>139.6</td>\n",
       "      <td>134.4</td>\n",
       "      <td>119.2</td>\n",
       "      <td>915.0</td>\n",
       "      <td>923.0</td>\n",
       "      <td>137.4</td>\n",
       "      <td>3681.52</td>\n",
       "      <td>21413.04</td>\n",
       "      <td>26407.36</td>\n",
       "      <td>41455.21</td>\n",
       "      <td>...</td>\n",
       "      <td>917.333333</td>\n",
       "      <td>914.000000</td>\n",
       "      <td>909.000000</td>\n",
       "      <td>903.666667</td>\n",
       "      <td>139.266667</td>\n",
       "      <td>140.000000</td>\n",
       "      <td>140.666667</td>\n",
       "      <td>141.166667</td>\n",
       "      <td>140.833333</td>\n",
       "      <td>139.633333</td>\n",
       "    </tr>\n",
       "    <tr>\n",
       "      <th>2019-02-01</th>\n",
       "      <td>139.9</td>\n",
       "      <td>127.6</td>\n",
       "      <td>119.5</td>\n",
       "      <td>917.0</td>\n",
       "      <td>925.0</td>\n",
       "      <td>137.5</td>\n",
       "      <td>1949.20</td>\n",
       "      <td>21623.30</td>\n",
       "      <td>26862.08</td>\n",
       "      <td>36591.13</td>\n",
       "      <td>...</td>\n",
       "      <td>919.333333</td>\n",
       "      <td>917.333333</td>\n",
       "      <td>914.000000</td>\n",
       "      <td>909.000000</td>\n",
       "      <td>138.433333</td>\n",
       "      <td>139.266667</td>\n",
       "      <td>140.000000</td>\n",
       "      <td>140.666667</td>\n",
       "      <td>141.166667</td>\n",
       "      <td>140.833333</td>\n",
       "    </tr>\n",
       "    <tr>\n",
       "      <th>2019-03-01</th>\n",
       "      <td>140.4</td>\n",
       "      <td>144.1</td>\n",
       "      <td>119.9</td>\n",
       "      <td>924.0</td>\n",
       "      <td>932.0</td>\n",
       "      <td>138.1</td>\n",
       "      <td>789.18</td>\n",
       "      <td>23170.18</td>\n",
       "      <td>32725.19</td>\n",
       "      <td>43690.44</td>\n",
       "      <td>...</td>\n",
       "      <td>920.666667</td>\n",
       "      <td>919.333333</td>\n",
       "      <td>917.333333</td>\n",
       "      <td>914.000000</td>\n",
       "      <td>137.700000</td>\n",
       "      <td>138.433333</td>\n",
       "      <td>139.266667</td>\n",
       "      <td>140.000000</td>\n",
       "      <td>140.666667</td>\n",
       "      <td>141.166667</td>\n",
       "    </tr>\n",
       "  </tbody>\n",
       "</table>\n",
       "<p>5 rows × 43 columns</p>\n",
       "</div>"
      ],
      "text/plain": [
       "            Consumer Price Index  (2012=100)  Index of Industrial Production  \\\n",
       "Period                                                                         \n",
       "2018-11-01                             140.8                           126.1   \n",
       "2018-12-01                             140.1                           133.9   \n",
       "2019-01-01                             139.6                           134.4   \n",
       "2019-02-01                             139.9                           127.6   \n",
       "2019-03-01                             140.4                           144.1   \n",
       "\n",
       "            Wholesale Price Index (2011-12=100)  \\\n",
       "Period                                            \n",
       "2018-11-01                                121.6   \n",
       "2018-12-01                                119.7   \n",
       "2019-01-01                                119.2   \n",
       "2019-02-01                                119.5   \n",
       "2019-03-01                                119.9   \n",
       "\n",
       "            Consumer Price Index for Agricultural Labourer  \\\n",
       "Period                                                       \n",
       "2018-11-01                                           914.0   \n",
       "2018-12-01                                           913.0   \n",
       "2019-01-01                                           915.0   \n",
       "2019-02-01                                           917.0   \n",
       "2019-03-01                                           924.0   \n",
       "\n",
       "            Consumer Price Index for Rural Labourer  \\\n",
       "Period                                                \n",
       "2018-11-01                                    921.0   \n",
       "2018-12-01                                    921.0   \n",
       "2019-01-01                                    923.0   \n",
       "2019-02-01                                    925.0   \n",
       "2019-03-01                                    932.0   \n",
       "\n",
       "            Consumer Price Index for Food and Beverages  \\\n",
       "Period                                                    \n",
       "2018-11-01                                        139.7   \n",
       "2018-12-01                                        138.2   \n",
       "2019-01-01                                        137.4   \n",
       "2019-02-01                                        137.5   \n",
       "2019-03-01                                        138.1   \n",
       "\n",
       "            Net Foreign Direct Investment (US $ Million)  \\\n",
       "Period                                                     \n",
       "2018-11-01                                       1076.61   \n",
       "2018-12-01                                       3112.49   \n",
       "2019-01-01                                       3681.52   \n",
       "2019-02-01                                       1949.20   \n",
       "2019-03-01                                        789.18   \n",
       "\n",
       "            FCNR(B)-Foreign Currency Non-Resident (Banks) (US $ Million)  \\\n",
       "Period                                                                     \n",
       "2018-11-01                                           20433.31              \n",
       "2018-12-01                                           20839.86              \n",
       "2019-01-01                                           21413.04              \n",
       "2019-02-01                                           21623.30              \n",
       "2019-03-01                                           23170.18              \n",
       "\n",
       "            Foreign Trade Exports Total (US $ Million)  \\\n",
       "Period                                                   \n",
       "2018-11-01                                    26071.56   \n",
       "2018-12-01                                    27858.29   \n",
       "2019-01-01                                    26407.36   \n",
       "2019-02-01                                    26862.08   \n",
       "2019-03-01                                    32725.19   \n",
       "\n",
       "            Foreign Trade Imports Total (US $ Million)  ...  \\\n",
       "Period                                                  ...   \n",
       "2018-11-01                                    43655.19  ...   \n",
       "2018-12-01                                    42351.02  ...   \n",
       "2019-01-01                                    41455.21  ...   \n",
       "2019-02-01                                    36591.13  ...   \n",
       "2019-03-01                                    43690.44  ...   \n",
       "\n",
       "            Consumer Price Index for Rural Labourer_lag_3  \\\n",
       "Period                                                      \n",
       "2018-11-01                                     909.000000   \n",
       "2018-12-01                                     914.000000   \n",
       "2019-01-01                                     917.333333   \n",
       "2019-02-01                                     919.333333   \n",
       "2019-03-01                                     920.666667   \n",
       "\n",
       "            Consumer Price Index for Rural Labourer_lag_4  \\\n",
       "Period                                                      \n",
       "2018-11-01                                     903.666667   \n",
       "2018-12-01                                     909.000000   \n",
       "2019-01-01                                     914.000000   \n",
       "2019-02-01                                     917.333333   \n",
       "2019-03-01                                     919.333333   \n",
       "\n",
       "            Consumer Price Index for Rural Labourer_lag_5  \\\n",
       "Period                                                      \n",
       "2018-11-01                                     899.000000   \n",
       "2018-12-01                                     903.666667   \n",
       "2019-01-01                                     909.000000   \n",
       "2019-02-01                                     914.000000   \n",
       "2019-03-01                                     917.333333   \n",
       "\n",
       "            Consumer Price Index for Rural Labourer_lag_6  \\\n",
       "Period                                                      \n",
       "2018-11-01                                     896.333333   \n",
       "2018-12-01                                     899.000000   \n",
       "2019-01-01                                     903.666667   \n",
       "2019-02-01                                     909.000000   \n",
       "2019-03-01                                     914.000000   \n",
       "\n",
       "            Consumer Price Index for Food and Beverages_lag_1  \\\n",
       "Period                                                          \n",
       "2018-11-01                                         140.666667   \n",
       "2018-12-01                                         140.000000   \n",
       "2019-01-01                                         139.266667   \n",
       "2019-02-01                                         138.433333   \n",
       "2019-03-01                                         137.700000   \n",
       "\n",
       "            Consumer Price Index for Food and Beverages_lag_2  \\\n",
       "Period                                                          \n",
       "2018-11-01                                         141.166667   \n",
       "2018-12-01                                         140.666667   \n",
       "2019-01-01                                         140.000000   \n",
       "2019-02-01                                         139.266667   \n",
       "2019-03-01                                         138.433333   \n",
       "\n",
       "            Consumer Price Index for Food and Beverages_lag_3  \\\n",
       "Period                                                          \n",
       "2018-11-01                                         140.833333   \n",
       "2018-12-01                                         141.166667   \n",
       "2019-01-01                                         140.666667   \n",
       "2019-02-01                                         140.000000   \n",
       "2019-03-01                                         139.266667   \n",
       "\n",
       "            Consumer Price Index for Food and Beverages_lag_4  \\\n",
       "Period                                                          \n",
       "2018-11-01                                         139.633333   \n",
       "2018-12-01                                         140.833333   \n",
       "2019-01-01                                         141.166667   \n",
       "2019-02-01                                         140.666667   \n",
       "2019-03-01                                         140.000000   \n",
       "\n",
       "            Consumer Price Index for Food and Beverages_lag_5  \\\n",
       "Period                                                          \n",
       "2018-11-01                                         138.333333   \n",
       "2018-12-01                                         139.633333   \n",
       "2019-01-01                                         140.833333   \n",
       "2019-02-01                                         141.166667   \n",
       "2019-03-01                                         140.666667   \n",
       "\n",
       "            Consumer Price Index for Food and Beverages_lag_6  \n",
       "Period                                                         \n",
       "2018-11-01                                         137.600000  \n",
       "2018-12-01                                         138.333333  \n",
       "2019-01-01                                         139.633333  \n",
       "2019-02-01                                         140.833333  \n",
       "2019-03-01                                         141.166667  \n",
       "\n",
       "[5 rows x 43 columns]"
      ]
     },
     "execution_count": 63,
     "metadata": {},
     "output_type": "execute_result"
    }
   ],
   "source": [
    "df['Period'] = pd.to_datetime(df['Period'], errors='coerce')\n",
    "\n",
    "df.sort_values(by='Period', inplace=True)\n",
    "df.set_index('Period', inplace=True)\n",
    "df.head()"
   ]
  },
  {
   "cell_type": "code",
   "execution_count": 64,
   "id": "d7e94cf3",
   "metadata": {},
   "outputs": [],
   "source": [
    "targets = [\n",
    "    'Consumer Price Index  (2012=100)',\n",
    "    'Consumer Price Index for Agricultural Labourer',\n",
    "    'Consumer Price Index for Rural Labourer',\n",
    "    'Consumer Price Index for Food and Beverages'\n",
    "]"
   ]
  },
  {
   "cell_type": "markdown",
   "id": "f4c02766",
   "metadata": {},
   "source": [
    "<h2>Univariate Forecasting<h2>"
   ]
  },
  {
   "cell_type": "code",
   "execution_count": 65,
   "id": "f43f9abd",
   "metadata": {},
   "outputs": [
    {
     "data": {
      "text/plain": [
       "(78, 43)"
      ]
     },
     "execution_count": 65,
     "metadata": {},
     "output_type": "execute_result"
    }
   ],
   "source": [
    "df.shape"
   ]
  },
  {
   "cell_type": "code",
   "execution_count": 66,
   "id": "46df25b2",
   "metadata": {},
   "outputs": [
    {
     "data": {
      "text/plain": [
       "(62, 43)"
      ]
     },
     "execution_count": 66,
     "metadata": {},
     "output_type": "execute_result"
    }
   ],
   "source": [
    "num_of_rows = 62\n",
    "future_context = 16\n",
    "y, y_actual = temporal_train_test_split(df, train_size=num_of_rows, test_size=future_context, anchor=\"end\")\n",
    "y.shape"
   ]
  },
  {
   "cell_type": "code",
   "execution_count": 67,
   "metadata": {},
   "outputs": [],
   "source": [
    "# Ensure the index is a DatetimeIndex with a string frequency\n",
    "y_cpindex = y['Consumer Price Index  (2012=100)']\n",
    "if not isinstance(y_cpindex.index, pd.PeriodIndex):\n",
    "    y_cpindex.index = y_cpindex.index.to_period('M')\n",
    "\n",
    "forecaster = NaiveForecaster(strategy='last', sp=12)\n",
    "fh = np.arange(1, future_context + 1)\n",
    "\n",
    "forecaster.fit(y_cpindex)\n",
    "y_pred = forecaster.predict(fh)"
   ]
  },
  {
   "cell_type": "code",
   "execution_count": 68,
   "id": "27970e18",
   "metadata": {},
   "outputs": [
    {
     "data": {
      "text/plain": [
       "(<Figure size 1600x400 with 1 Axes>,\n",
       " <Axes: ylabel='Consumer Price Index  (2012=100)'>)"
      ]
     },
     "execution_count": 68,
     "metadata": {},
     "output_type": "execute_result"
    },
    {
     "data": {
      "image/png": "[encoded data removed]",
      "text/plain": [
       "<Figure size 1600x400 with 1 Axes>"
      ]
     },
     "metadata": {},
     "output_type": "display_data"
    }
   ],
   "source": [
    "if not isinstance(y_pred.index, pd.PeriodIndex):\n",
    "\ty_pred.index = y_pred.index.to_period('M')\n",
    "\n",
    "y_actual = y_actual['Consumer Price Index  (2012=100)'] if isinstance(y_actual, pd.DataFrame) else y_actual\n",
    "if not isinstance(y_actual.index, pd.PeriodIndex):\n",
    "\ty_actual.index = y_actual.index.to_period('M')\n",
    "\n",
    "plot_series(y_cpindex, y_pred, y_actual, labels=[\"y\", \"y_pred\", \"y_actual\"])"
   ]
  },
  {
   "cell_type": "code",
   "execution_count": 69,
   "id": "8b0fb505",
   "metadata": {},
   "outputs": [
    {
     "data": {
      "text/plain": [
       "np.float64(5.542166934072102)"
      ]
     },
     "execution_count": 69,
     "metadata": {},
     "output_type": "execute_result"
    }
   ],
   "source": [
    "mean_absolute_percentage_error(y_actual, y_pred) * 100"
   ]
  },
  {
   "cell_type": "code",
   "execution_count": 70,
   "id": "e749f8cb",
   "metadata": {},
   "outputs": [],
   "source": [
    "forecaster = AutoETS(auto=True, sp=12, n_jobs=-1)\n",
    "forecaster.fit(y_cpindex)\n",
    "y_pred = forecaster.predict(fh)"
   ]
  },
  {
   "cell_type": "code",
   "execution_count": 71,
   "metadata": {},
   "outputs": [
    {
     "data": {
      "text/plain": [
       "(<Figure size 1600x400 with 1 Axes>,\n",
       " <Axes: ylabel='Consumer Price Index  (2012=100)'>)"
      ]
     },
     "execution_count": 71,
     "metadata": {},
     "output_type": "execute_result"
    },
    {
     "data": {
      "image/png": "[encoded data removed]",
      "text/plain": [
       "<Figure size 1600x400 with 1 Axes>"
      ]
     },
     "metadata": {},
     "output_type": "display_data"
    }
   ],
   "source": [
    "# Only convert to PeriodIndex if not already\n",
    "if not isinstance(y_pred.index, pd.PeriodIndex):\n",
    "\ty_pred.index = y_pred.index.to_period('M')\n",
    "\n",
    "y_actual = y_actual['Consumer Price Index  (2012=100)'] if isinstance(y_actual, pd.DataFrame) else y_actual\n",
    "if not isinstance(y_actual.index, pd.PeriodIndex):\n",
    "\ty_actual.index = y_actual.index.to_period('M')\n",
    "\n",
    "plot_series(y_cpindex, y_pred, y_actual, labels=[\"y\", \"y_pred\", \"y_actual\"])"
   ]
  },
  {
   "cell_type": "code",
   "execution_count": 72,
   "id": "08ad6e27",
   "metadata": {},
   "outputs": [
    {
     "data": {
      "text/plain": [
       "np.float64(0.6676362565216097)"
      ]
     },
     "execution_count": 72,
     "metadata": {},
     "output_type": "execute_result"
    }
   ],
   "source": [
    "mean_absolute_percentage_error(y_actual, y_pred) * 100"
   ]
  },
  {
   "cell_type": "markdown",
   "id": "cc93e300",
   "metadata": {},
   "source": [
    "<h2>Multivariate Forecasting<h2>"
   ]
  },
  {
   "cell_type": "code",
   "execution_count": 73,
   "id": "2185c650",
   "metadata": {},
   "outputs": [
    {
     "name": "stderr",
     "output_type": "stream",
     "text": [
      "C:\\Users\\SUJAL GULIA\\AppData\\Local\\Temp\\ipykernel_19960\\2821398295.py:28: FutureWarning: 'M' is deprecated and will be removed in a future version, please use 'ME' instead.\n",
      "  y_subset.index = pd.date_range(start=y_subset.index[0], periods=len(y_subset), freq='M')\n"
     ]
    }
   ],
   "source": [
    "selected_features = [\n",
    "    'Index of Industrial Production',\n",
    "    'Wholesale Price Index (2011-12=100)',\n",
    "    'Net Foreign Direct Investment (US $ Million)',\n",
    "    'FCNR(B)-Foreign Currency Non-Resident (Banks) (US $ Million)',\n",
    "    'Foreign Trade Exports Total (US $ Million)',\n",
    "    'Foreign Trade Imports Total (US $ Million)',\n",
    "    'Foreign Trade Balance Total (US $ Million)',\n",
    "    'Market Borrowing SG Gross Amount Raised (in Crore)',\n",
    "    'Exchange Rate of Indian Rupee to US Dollar (Month End)',\n",
    "    'rolling_mean_Commercial Paper (Amount Outstanding) (in Crore)',\n",
    "    'rolling_mean_Direct Investment to India (US $ Million)',\n",
    "    'rolling_mean_Foreign Direct Investment By India (US $ Million)',\n",
    "    'rolling_mean_Net Portfolio Investment (US $ Million)',\n",
    "    'rolling_mean_Total Investment Inflows (US $ Million)',\n",
    "    'rolling_mean_External Commercial Borrowings Registrations (US $ Million)',\n",
    "    'Consumer Price Index  (2012=100)_lag_1',\n",
    "    'Consumer Price Index  (2012=100)_lag_2',\n",
    "    'Consumer Price Index  (2012=100)_lag_3',\n",
    "    'Consumer Price Index  (2012=100)_lag_4',\n",
    "    'Consumer Price Index  (2012=100)_lag_5',\n",
    "    'Consumer Price Index  (2012=100)_lag_6',\n",
    "    'Consumer Price Index  (2012=100)'\n",
    "]\n",
    "\n",
    "y_subset = df[selected_features].copy()\n",
    "if y_subset.index.freq is None:\n",
    "    y_subset.index = pd.date_range(start=y_subset.index[0], periods=len(y_subset), freq='M')\n",
    "\n",
    "future_context = 12\n",
    "y_train, y_test = temporal_train_test_split(y_subset, test_size=future_context)"
   ]
  },
  {
   "cell_type": "code",
   "execution_count": 74,
   "id": "a9c26459",
   "metadata": {},
   "outputs": [
    {
     "name": "stderr",
     "output_type": "stream",
     "text": [
      "C:\\Users\\SUJAL GULIA\\AppData\\Local\\Temp\\ipykernel_19960\\818896994.py:3: SettingWithCopyWarning: \n",
      "A value is trying to be set on a copy of a slice from a DataFrame.\n",
      "Try using .loc[row_indexer,col_indexer] = value instead\n",
      "\n",
      "See the caveats in the documentation: https://pandas.pydata.org/pandas-docs/stable/user_guide/indexing.html#returning-a-view-versus-a-copy\n",
      "  y_train[target_col] = transformer.fit_transform(y_train[target_col])\n"
     ]
    }
   ],
   "source": [
    "target_col = 'Consumer Price Index  (2012=100)'\n",
    "transformer = Differencer(lags=[1])\n",
    "y_train[target_col] = transformer.fit_transform(y_train[target_col])"
   ]
  },
  {
   "cell_type": "code",
   "execution_count": 75,
   "id": "59cc61df",
   "metadata": {},
   "outputs": [],
   "source": [
    "scaler = StandardScaler()\n",
    "y_train_scaled = pd.DataFrame(\n",
    "    scaler.fit_transform(y_train),\n",
    "    columns=y_train.columns,\n",
    "    index=y_train.index\n",
    ")"
   ]
  },
  {
   "cell_type": "code",
   "execution_count": 76,
   "id": "cff88d87",
   "metadata": {},
   "outputs": [
    {
     "name": "stderr",
     "output_type": "stream",
     "text": [
      "c:\\Users\\SUJAL GULIA\\anaconda3\\envs\\CIP\\Lib\\site-packages\\sktime\\forecasting\\base\\_fh.py:861: FutureWarning: 'M' is deprecated and will be removed in a future version, please use 'ME' instead.\n",
      "  return r * to_offset(fh.freq)\n",
      "c:\\Users\\SUJAL GULIA\\anaconda3\\envs\\CIP\\Lib\\site-packages\\sktime\\forecasting\\base\\_fh.py:875: FutureWarning: 'M' is deprecated and will be removed in a future version, please use 'ME' instead.\n",
      "  absolute = pd.DatetimeIndex(absolute, freq=fh.freq)\n"
     ]
    }
   ],
   "source": [
    "forecaster = VAR(ic='fpe')\n",
    "forecaster.fit(y_train_scaled, fh=np.arange(1, future_context + 1))\n",
    "\n",
    "y_pred_scaled = forecaster.predict()"
   ]
  },
  {
   "cell_type": "code",
   "execution_count": 77,
   "id": "72cb2844",
   "metadata": {},
   "outputs": [],
   "source": [
    "y_pred_unscaled = pd.DataFrame(\n",
    "    scaler.inverse_transform(y_pred_scaled),\n",
    "    columns=y_pred_scaled.columns,\n",
    "    index=y_pred_scaled.index\n",
    ")\n",
    "\n",
    "cpi_forecast_diffed = y_pred_unscaled[target_col].copy()\n",
    "if cpi_forecast_diffed.index.freq is None:\n",
    "    cpi_forecast_diffed.index = pd.date_range(\n",
    "        start=y_test.index[0], periods=len(cpi_forecast_diffed), freq='M'\n",
    "    )\n",
    "\n",
    "cpi_forecast_restored = transformer.inverse_transform(cpi_forecast_diffed)"
   ]
  },
  {
   "cell_type": "code",
   "execution_count": 78,
   "id": "60f2ff2c",
   "metadata": {},
   "outputs": [
    {
     "name": "stdout",
     "output_type": "stream",
     "text": [
      "MAE: 2.99\n",
      "MAPE: 1.54%\n"
     ]
    }
   ],
   "source": [
    "y_actual = y_test[target_col].copy()\n",
    "if y_actual.index.freq is None:\n",
    "    y_actual.index = pd.date_range(start=y_actual.index[0], periods=len(y_actual), freq='M')\n",
    "\n",
    "mae = mean_absolute_error(y_actual, cpi_forecast_restored)\n",
    "mape = np.mean(np.abs((y_actual - cpi_forecast_restored) / y_actual)) * 100\n",
    "\n",
    "print(f\"MAE: {mae:.2f}\")\n",
    "print(f\"MAPE: {mape:.2f}%\")"
   ]
  },
  {
   "cell_type": "code",
   "execution_count": 79,
   "id": "61cca031",
   "metadata": {},
   "outputs": [
    {
     "data": {
      "text/plain": [
       "(<Figure size 1600x400 with 1 Axes>,\n",
       " <Axes: ylabel='Consumer Price Index  (2012=100)'>)"
      ]
     },
     "execution_count": 79,
     "metadata": {},
     "output_type": "execute_result"
    },
    {
     "data": {
      "image/png": "[encoded data removed]",
      "text/plain": [
       "<Figure size 1600x400 with 1 Axes>"
      ]
     },
     "metadata": {},
     "output_type": "display_data"
    }
   ],
   "source": [
    "plot_series(y_actual, cpi_forecast_restored, labels=[\"Actual CPI\", \"Forecasted CPI\"])"
   ]
  },
  {
   "cell_type": "code",
   "execution_count": 80,
   "id": "d3a683fd",
   "metadata": {},
   "outputs": [],
   "source": [
    "import pandas as pd\n",
    "import numpy as np\n",
    "from sklearn.preprocessing import StandardScaler\n",
    "\n",
    "scaler = StandardScaler()\n",
    "data_scaled = scaler.fit_transform(y_subset)\n",
    "data_scaled = pd.DataFrame(data_scaled, columns=y_subset.columns, index=y_subset.index)\n",
    "\n",
    "def create_sequences(data, target_col, time_steps=12):\n",
    "    X, y = [], []\n",
    "    for i in range(len(data) - time_steps):\n",
    "        X.append(data.iloc[i:i+time_steps].values)\n",
    "        y.append(data.iloc[i+time_steps][target_col])\n",
    "    return np.array(X), np.array(y)\n",
    "\n",
    "time_steps = 12\n",
    "target_col = 'Consumer Price Index  (2012=100)'\n",
    "\n",
    "X, y = create_sequences(data_scaled, target_col, time_steps)\n"
   ]
  },
  {
   "cell_type": "code",
   "execution_count": 81,
   "id": "07ddd38c",
   "metadata": {},
   "outputs": [
    {
     "data": {
      "text/html": [
       "<pre style=\"white-space:pre;overflow-x:auto;line-height:normal;font-family:Menlo,'DejaVu Sans Mono',consolas,'Courier New',monospace\"><span style=\"font-weight: bold\">Model: \"functional_2\"</span>\n",
       "</pre>\n"
      ],
      "text/plain": [
       "\u001b[1mModel: \"functional_2\"\u001b[0m\n"
      ]
     },
     "metadata": {},
     "output_type": "display_data"
    },
    {
     "data": {
      "text/html": [
       "<pre style=\"white-space:pre;overflow-x:auto;line-height:normal;font-family:Menlo,'DejaVu Sans Mono',consolas,'Courier New',monospace\">┏━━━━━━━━━━━━━━━━━━━━━━━━━━━━━━━━━┳━━━━━━━━━━━━━━━━━━━━━━━━┳━━━━━━━━━━━━━━━┓\n",
       "┃<span style=\"font-weight: bold\"> Layer (type)                    </span>┃<span style=\"font-weight: bold\"> Output Shape           </span>┃<span style=\"font-weight: bold\">       Param # </span>┃\n",
       "┡━━━━━━━━━━━━━━━━━━━━━━━━━━━━━━━━━╇━━━━━━━━━━━━━━━━━━━━━━━━╇━━━━━━━━━━━━━━━┩\n",
       "│ input_layer_2 (<span style=\"color: #0087ff; text-decoration-color: #0087ff\">InputLayer</span>)      │ (<span style=\"color: #00d7ff; text-decoration-color: #00d7ff\">None</span>, <span style=\"color: #00af00; text-decoration-color: #00af00\">12</span>, <span style=\"color: #00af00; text-decoration-color: #00af00\">22</span>)         │             <span style=\"color: #00af00; text-decoration-color: #00af00\">0</span> │\n",
       "├─────────────────────────────────┼────────────────────────┼───────────────┤\n",
       "│ conv1d_2 (<span style=\"color: #0087ff; text-decoration-color: #0087ff\">Conv1D</span>)               │ (<span style=\"color: #00d7ff; text-decoration-color: #00d7ff\">None</span>, <span style=\"color: #00af00; text-decoration-color: #00af00\">12</span>, <span style=\"color: #00af00; text-decoration-color: #00af00\">128</span>)        │         <span style=\"color: #00af00; text-decoration-color: #00af00\">8,576</span> │\n",
       "├─────────────────────────────────┼────────────────────────┼───────────────┤\n",
       "│ max_pooling1d_2 (<span style=\"color: #0087ff; text-decoration-color: #0087ff\">MaxPooling1D</span>)  │ (<span style=\"color: #00d7ff; text-decoration-color: #00d7ff\">None</span>, <span style=\"color: #00af00; text-decoration-color: #00af00\">6</span>, <span style=\"color: #00af00; text-decoration-color: #00af00\">128</span>)         │             <span style=\"color: #00af00; text-decoration-color: #00af00\">0</span> │\n",
       "├─────────────────────────────────┼────────────────────────┼───────────────┤\n",
       "│ dropout_8 (<span style=\"color: #0087ff; text-decoration-color: #0087ff\">Dropout</span>)             │ (<span style=\"color: #00d7ff; text-decoration-color: #00d7ff\">None</span>, <span style=\"color: #00af00; text-decoration-color: #00af00\">6</span>, <span style=\"color: #00af00; text-decoration-color: #00af00\">128</span>)         │             <span style=\"color: #00af00; text-decoration-color: #00af00\">0</span> │\n",
       "├─────────────────────────────────┼────────────────────────┼───────────────┤\n",
       "│ lstm_6 (<span style=\"color: #0087ff; text-decoration-color: #0087ff\">LSTM</span>)                   │ (<span style=\"color: #00d7ff; text-decoration-color: #00d7ff\">None</span>, <span style=\"color: #00af00; text-decoration-color: #00af00\">6</span>, <span style=\"color: #00af00; text-decoration-color: #00af00\">128</span>)         │       <span style=\"color: #00af00; text-decoration-color: #00af00\">131,584</span> │\n",
       "├─────────────────────────────────┼────────────────────────┼───────────────┤\n",
       "│ dropout_9 (<span style=\"color: #0087ff; text-decoration-color: #0087ff\">Dropout</span>)             │ (<span style=\"color: #00d7ff; text-decoration-color: #00d7ff\">None</span>, <span style=\"color: #00af00; text-decoration-color: #00af00\">6</span>, <span style=\"color: #00af00; text-decoration-color: #00af00\">128</span>)         │             <span style=\"color: #00af00; text-decoration-color: #00af00\">0</span> │\n",
       "├─────────────────────────────────┼────────────────────────┼───────────────┤\n",
       "│ lstm_7 (<span style=\"color: #0087ff; text-decoration-color: #0087ff\">LSTM</span>)                   │ (<span style=\"color: #00d7ff; text-decoration-color: #00d7ff\">None</span>, <span style=\"color: #00af00; text-decoration-color: #00af00\">6</span>, <span style=\"color: #00af00; text-decoration-color: #00af00\">64</span>)          │        <span style=\"color: #00af00; text-decoration-color: #00af00\">49,408</span> │\n",
       "├─────────────────────────────────┼────────────────────────┼───────────────┤\n",
       "│ dropout_10 (<span style=\"color: #0087ff; text-decoration-color: #0087ff\">Dropout</span>)            │ (<span style=\"color: #00d7ff; text-decoration-color: #00d7ff\">None</span>, <span style=\"color: #00af00; text-decoration-color: #00af00\">6</span>, <span style=\"color: #00af00; text-decoration-color: #00af00\">64</span>)          │             <span style=\"color: #00af00; text-decoration-color: #00af00\">0</span> │\n",
       "├─────────────────────────────────┼────────────────────────┼───────────────┤\n",
       "│ lstm_8 (<span style=\"color: #0087ff; text-decoration-color: #0087ff\">LSTM</span>)                   │ (<span style=\"color: #00d7ff; text-decoration-color: #00d7ff\">None</span>, <span style=\"color: #00af00; text-decoration-color: #00af00\">32</span>)             │        <span style=\"color: #00af00; text-decoration-color: #00af00\">12,416</span> │\n",
       "├─────────────────────────────────┼────────────────────────┼───────────────┤\n",
       "│ dropout_11 (<span style=\"color: #0087ff; text-decoration-color: #0087ff\">Dropout</span>)            │ (<span style=\"color: #00d7ff; text-decoration-color: #00d7ff\">None</span>, <span style=\"color: #00af00; text-decoration-color: #00af00\">32</span>)             │             <span style=\"color: #00af00; text-decoration-color: #00af00\">0</span> │\n",
       "├─────────────────────────────────┼────────────────────────┼───────────────┤\n",
       "│ dense_2 (<span style=\"color: #0087ff; text-decoration-color: #0087ff\">Dense</span>)                 │ (<span style=\"color: #00d7ff; text-decoration-color: #00d7ff\">None</span>, <span style=\"color: #00af00; text-decoration-color: #00af00\">1</span>)              │            <span style=\"color: #00af00; text-decoration-color: #00af00\">33</span> │\n",
       "└─────────────────────────────────┴────────────────────────┴───────────────┘\n",
       "</pre>\n"
      ],
      "text/plain": [
       "┏━━━━━━━━━━━━━━━━━━━━━━━━━━━━━━━━━┳━━━━━━━━━━━━━━━━━━━━━━━━┳━━━━━━━━━━━━━━━┓\n",
       "┃\u001b[1m \u001b[0m\u001b[1mLayer (type)                   \u001b[0m\u001b[1m \u001b[0m┃\u001b[1m \u001b[0m\u001b[1mOutput Shape          \u001b[0m\u001b[1m \u001b[0m┃\u001b[1m \u001b[0m\u001b[1m      Param #\u001b[0m\u001b[1m \u001b[0m┃\n",
       "┡━━━━━━━━━━━━━━━━━━━━━━━━━━━━━━━━━╇━━━━━━━━━━━━━━━━━━━━━━━━╇━━━━━━━━━━━━━━━┩\n",
       "│ input_layer_2 (\u001b[38;5;33mInputLayer\u001b[0m)      │ (\u001b[38;5;45mNone\u001b[0m, \u001b[38;5;34m12\u001b[0m, \u001b[38;5;34m22\u001b[0m)         │             \u001b[38;5;34m0\u001b[0m │\n",
       "├─────────────────────────────────┼────────────────────────┼───────────────┤\n",
       "│ conv1d_2 (\u001b[38;5;33mConv1D\u001b[0m)               │ (\u001b[38;5;45mNone\u001b[0m, \u001b[38;5;34m12\u001b[0m, \u001b[38;5;34m128\u001b[0m)        │         \u001b[38;5;34m8,576\u001b[0m │\n",
       "├─────────────────────────────────┼────────────────────────┼───────────────┤\n",
       "│ max_pooling1d_2 (\u001b[38;5;33mMaxPooling1D\u001b[0m)  │ (\u001b[38;5;45mNone\u001b[0m, \u001b[38;5;34m6\u001b[0m, \u001b[38;5;34m128\u001b[0m)         │             \u001b[38;5;34m0\u001b[0m │\n",
       "├─────────────────────────────────┼────────────────────────┼───────────────┤\n",
       "│ dropout_8 (\u001b[38;5;33mDropout\u001b[0m)             │ (\u001b[38;5;45mNone\u001b[0m, \u001b[38;5;34m6\u001b[0m, \u001b[38;5;34m128\u001b[0m)         │             \u001b[38;5;34m0\u001b[0m │\n",
       "├─────────────────────────────────┼────────────────────────┼───────────────┤\n",
       "│ lstm_6 (\u001b[38;5;33mLSTM\u001b[0m)                   │ (\u001b[38;5;45mNone\u001b[0m, \u001b[38;5;34m6\u001b[0m, \u001b[38;5;34m128\u001b[0m)         │       \u001b[38;5;34m131,584\u001b[0m │\n",
       "├─────────────────────────────────┼────────────────────────┼───────────────┤\n",
       "│ dropout_9 (\u001b[38;5;33mDropout\u001b[0m)             │ (\u001b[38;5;45mNone\u001b[0m, \u001b[38;5;34m6\u001b[0m, \u001b[38;5;34m128\u001b[0m)         │             \u001b[38;5;34m0\u001b[0m │\n",
       "├─────────────────────────────────┼────────────────────────┼───────────────┤\n",
       "│ lstm_7 (\u001b[38;5;33mLSTM\u001b[0m)                   │ (\u001b[38;5;45mNone\u001b[0m, \u001b[38;5;34m6\u001b[0m, \u001b[38;5;34m64\u001b[0m)          │        \u001b[38;5;34m49,408\u001b[0m │\n",
       "├─────────────────────────────────┼────────────────────────┼───────────────┤\n",
       "│ dropout_10 (\u001b[38;5;33mDropout\u001b[0m)            │ (\u001b[38;5;45mNone\u001b[0m, \u001b[38;5;34m6\u001b[0m, \u001b[38;5;34m64\u001b[0m)          │             \u001b[38;5;34m0\u001b[0m │\n",
       "├─────────────────────────────────┼────────────────────────┼───────────────┤\n",
       "│ lstm_8 (\u001b[38;5;33mLSTM\u001b[0m)                   │ (\u001b[38;5;45mNone\u001b[0m, \u001b[38;5;34m32\u001b[0m)             │        \u001b[38;5;34m12,416\u001b[0m │\n",
       "├─────────────────────────────────┼────────────────────────┼───────────────┤\n",
       "│ dropout_11 (\u001b[38;5;33mDropout\u001b[0m)            │ (\u001b[38;5;45mNone\u001b[0m, \u001b[38;5;34m32\u001b[0m)             │             \u001b[38;5;34m0\u001b[0m │\n",
       "├─────────────────────────────────┼────────────────────────┼───────────────┤\n",
       "│ dense_2 (\u001b[38;5;33mDense\u001b[0m)                 │ (\u001b[38;5;45mNone\u001b[0m, \u001b[38;5;34m1\u001b[0m)              │            \u001b[38;5;34m33\u001b[0m │\n",
       "└─────────────────────────────────┴────────────────────────┴───────────────┘\n"
      ]
     },
     "metadata": {},
     "output_type": "display_data"
    },
    {
     "data": {
      "text/html": [
       "<pre style=\"white-space:pre;overflow-x:auto;line-height:normal;font-family:Menlo,'DejaVu Sans Mono',consolas,'Courier New',monospace\"><span style=\"font-weight: bold\"> Total params: </span><span style=\"color: #00af00; text-decoration-color: #00af00\">202,017</span> (789.13 KB)\n",
       "</pre>\n"
      ],
      "text/plain": [
       "\u001b[1m Total params: \u001b[0m\u001b[38;5;34m202,017\u001b[0m (789.13 KB)\n"
      ]
     },
     "metadata": {},
     "output_type": "display_data"
    },
    {
     "data": {
      "text/html": [
       "<pre style=\"white-space:pre;overflow-x:auto;line-height:normal;font-family:Menlo,'DejaVu Sans Mono',consolas,'Courier New',monospace\"><span style=\"font-weight: bold\"> Trainable params: </span><span style=\"color: #00af00; text-decoration-color: #00af00\">202,017</span> (789.13 KB)\n",
       "</pre>\n"
      ],
      "text/plain": [
       "\u001b[1m Trainable params: \u001b[0m\u001b[38;5;34m202,017\u001b[0m (789.13 KB)\n"
      ]
     },
     "metadata": {},
     "output_type": "display_data"
    },
    {
     "data": {
      "text/html": [
       "<pre style=\"white-space:pre;overflow-x:auto;line-height:normal;font-family:Menlo,'DejaVu Sans Mono',consolas,'Courier New',monospace\"><span style=\"font-weight: bold\"> Non-trainable params: </span><span style=\"color: #00af00; text-decoration-color: #00af00\">0</span> (0.00 B)\n",
       "</pre>\n"
      ],
      "text/plain": [
       "\u001b[1m Non-trainable params: \u001b[0m\u001b[38;5;34m0\u001b[0m (0.00 B)\n"
      ]
     },
     "metadata": {},
     "output_type": "display_data"
    }
   ],
   "source": [
    "from keras.models import Model\n",
    "from keras.layers import Input, Conv1D, MaxPooling1D, LSTM, Dropout, Dense\n",
    "\n",
    "input_shape = X.shape[1:]\n",
    "inputs = Input(shape=input_shape)\n",
    "\n",
    "x = Conv1D(filters=128, kernel_size=3, activation='relu', padding='same')(inputs)\n",
    "x = MaxPooling1D(pool_size=2)(x)\n",
    "x = Dropout(0.4)(x)\n",
    "\n",
    "x = LSTM(128, return_sequences=True)(x)\n",
    "x = Dropout(0.4)(x)\n",
    "x = LSTM(64, return_sequences=True)(x)\n",
    "x = Dropout(0.4)(x)\n",
    "x = LSTM(32, return_sequences=False)(x)\n",
    "x = Dropout(0.4)(x)\n",
    "\n",
    "output = Dense(1)(x)\n",
    "\n",
    "model = Model(inputs, output)\n",
    "model.compile(loss='mse', optimizer='adam', metrics=['mae'])\n",
    "model.summary()"
   ]
  },
  {
   "cell_type": "code",
   "execution_count": 82,
   "id": "85d4d0ef",
   "metadata": {},
   "outputs": [
    {
     "name": "stdout",
     "output_type": "stream",
     "text": [
      "Epoch 1/100\n",
      "\u001b[1m3/3\u001b[0m \u001b[32m━━━━━━━━━━━━━━━━━━━━\u001b[0m\u001b[37m\u001b[0m \u001b[1m9s\u001b[0m 356ms/step - loss: 0.3539 - mae: 0.5025 - val_loss: 0.5526 - val_mae: 0.7420\n",
      "Epoch 2/100\n",
      "\u001b[1m3/3\u001b[0m \u001b[32m━━━━━━━━━━━━━━━━━━━━\u001b[0m\u001b[37m\u001b[0m \u001b[1m0s\u001b[0m 64ms/step - loss: 0.1482 - mae: 0.3160 - val_loss: 0.1164 - val_mae: 0.3374\n",
      "Epoch 3/100\n",
      "\u001b[1m3/3\u001b[0m \u001b[32m━━━━━━━━━━━━━━━━━━━━\u001b[0m\u001b[37m\u001b[0m \u001b[1m0s\u001b[0m 42ms/step - loss: 0.0943 - mae: 0.2385 - val_loss: 0.0073 - val_mae: 0.0802\n",
      "Epoch 4/100\n",
      "\u001b[1m3/3\u001b[0m \u001b[32m━━━━━━━━━━━━━━━━━━━━\u001b[0m\u001b[37m\u001b[0m \u001b[1m0s\u001b[0m 38ms/step - loss: 0.0473 - mae: 0.1793 - val_loss: 0.0068 - val_mae: 0.0774\n",
      "Epoch 5/100\n",
      "\u001b[1m3/3\u001b[0m \u001b[32m━━━━━━━━━━━━━━━━━━━━\u001b[0m\u001b[37m\u001b[0m \u001b[1m0s\u001b[0m 51ms/step - loss: 0.0825 - mae: 0.2267 - val_loss: 0.0260 - val_mae: 0.1549\n",
      "Epoch 6/100\n",
      "\u001b[1m3/3\u001b[0m \u001b[32m━━━━━━━━━━━━━━━━━━━━\u001b[0m\u001b[37m\u001b[0m \u001b[1m0s\u001b[0m 43ms/step - loss: 0.0336 - mae: 0.1361 - val_loss: 0.0671 - val_mae: 0.2557\n",
      "Epoch 7/100\n",
      "\u001b[1m3/3\u001b[0m \u001b[32m━━━━━━━━━━━━━━━━━━━━\u001b[0m\u001b[37m\u001b[0m \u001b[1m0s\u001b[0m 43ms/step - loss: 0.0504 - mae: 0.1694 - val_loss: 0.0856 - val_mae: 0.2900\n",
      "Epoch 8/100\n",
      "\u001b[1m3/3\u001b[0m \u001b[32m━━━━━━━━━━━━━━━━━━━━\u001b[0m\u001b[37m\u001b[0m \u001b[1m0s\u001b[0m 52ms/step - loss: 0.0398 - mae: 0.1637 - val_loss: 0.0974 - val_mae: 0.3097\n",
      "Epoch 9/100\n",
      "\u001b[1m3/3\u001b[0m \u001b[32m━━━━━━━━━━━━━━━━━━━━\u001b[0m\u001b[37m\u001b[0m \u001b[1m0s\u001b[0m 49ms/step - loss: 0.0435 - mae: 0.1760 - val_loss: 0.0583 - val_mae: 0.2385\n",
      "Epoch 10/100\n",
      "\u001b[1m3/3\u001b[0m \u001b[32m━━━━━━━━━━━━━━━━━━━━\u001b[0m\u001b[37m\u001b[0m \u001b[1m0s\u001b[0m 51ms/step - loss: 0.0378 - mae: 0.1630 - val_loss: 0.0195 - val_mae: 0.1343\n",
      "Epoch 11/100\n",
      "\u001b[1m3/3\u001b[0m \u001b[32m━━━━━━━━━━━━━━━━━━━━\u001b[0m\u001b[37m\u001b[0m \u001b[1m0s\u001b[0m 42ms/step - loss: 0.0349 - mae: 0.1441 - val_loss: 0.0039 - val_mae: 0.0587\n",
      "Epoch 12/100\n",
      "\u001b[1m3/3\u001b[0m \u001b[32m━━━━━━━━━━━━━━━━━━━━\u001b[0m\u001b[37m\u001b[0m \u001b[1m0s\u001b[0m 42ms/step - loss: 0.0384 - mae: 0.1580 - val_loss: 0.0014 - val_mae: 0.0267\n",
      "Epoch 13/100\n",
      "\u001b[1m3/3\u001b[0m \u001b[32m━━━━━━━━━━━━━━━━━━━━\u001b[0m\u001b[37m\u001b[0m \u001b[1m0s\u001b[0m 40ms/step - loss: 0.0406 - mae: 0.1488 - val_loss: 0.0029 - val_mae: 0.0510\n",
      "Epoch 14/100\n",
      "\u001b[1m3/3\u001b[0m \u001b[32m━━━━━━━━━━━━━━━━━━━━\u001b[0m\u001b[37m\u001b[0m \u001b[1m0s\u001b[0m 42ms/step - loss: 0.0230 - mae: 0.1222 - val_loss: 0.0145 - val_mae: 0.1150\n",
      "Epoch 15/100\n",
      "\u001b[1m3/3\u001b[0m \u001b[32m━━━━━━━━━━━━━━━━━━━━\u001b[0m\u001b[37m\u001b[0m \u001b[1m0s\u001b[0m 52ms/step - loss: 0.0283 - mae: 0.1282 - val_loss: 0.0184 - val_mae: 0.1313\n",
      "Epoch 16/100\n",
      "\u001b[1m3/3\u001b[0m \u001b[32m━━━━━━━━━━━━━━━━━━━━\u001b[0m\u001b[37m\u001b[0m \u001b[1m0s\u001b[0m 45ms/step - loss: 0.0183 - mae: 0.1070 - val_loss: 0.0129 - val_mae: 0.1086\n",
      "Epoch 17/100\n",
      "\u001b[1m3/3\u001b[0m \u001b[32m━━━━━━━━━━━━━━━━━━━━\u001b[0m\u001b[37m\u001b[0m \u001b[1m0s\u001b[0m 53ms/step - loss: 0.0385 - mae: 0.1472 - val_loss: 0.0033 - val_mae: 0.0529\n",
      "Epoch 18/100\n",
      "\u001b[1m3/3\u001b[0m \u001b[32m━━━━━━━━━━━━━━━━━━━━\u001b[0m\u001b[37m\u001b[0m \u001b[1m0s\u001b[0m 42ms/step - loss: 0.0270 - mae: 0.1323 - val_loss: 0.0012 - val_mae: 0.0267\n",
      "Epoch 19/100\n",
      "\u001b[1m3/3\u001b[0m \u001b[32m━━━━━━━━━━━━━━━━━━━━\u001b[0m\u001b[37m\u001b[0m \u001b[1m0s\u001b[0m 43ms/step - loss: 0.0294 - mae: 0.1241 - val_loss: 0.0012 - val_mae: 0.0239\n",
      "Epoch 20/100\n",
      "\u001b[1m3/3\u001b[0m \u001b[32m━━━━━━━━━━━━━━━━━━━━\u001b[0m\u001b[37m\u001b[0m \u001b[1m0s\u001b[0m 45ms/step - loss: 0.0296 - mae: 0.1331 - val_loss: 0.0012 - val_mae: 0.0287\n",
      "Epoch 21/100\n",
      "\u001b[1m3/3\u001b[0m \u001b[32m━━━━━━━━━━━━━━━━━━━━\u001b[0m\u001b[37m\u001b[0m \u001b[1m0s\u001b[0m 42ms/step - loss: 0.0294 - mae: 0.1289 - val_loss: 0.0013 - val_mae: 0.0316\n",
      "Epoch 22/100\n",
      "\u001b[1m3/3\u001b[0m \u001b[32m━━━━━━━━━━━━━━━━━━━━\u001b[0m\u001b[37m\u001b[0m \u001b[1m0s\u001b[0m 42ms/step - loss: 0.0341 - mae: 0.1402 - val_loss: 8.9893e-04 - val_mae: 0.0228\n",
      "Epoch 23/100\n",
      "\u001b[1m3/3\u001b[0m \u001b[32m━━━━━━━━━━━━━━━━━━━━\u001b[0m\u001b[37m\u001b[0m \u001b[1m0s\u001b[0m 63ms/step - loss: 0.0273 - mae: 0.1406 - val_loss: 9.3954e-04 - val_mae: 0.0249\n",
      "Epoch 24/100\n",
      "\u001b[1m3/3\u001b[0m \u001b[32m━━━━━━━━━━━━━━━━━━━━\u001b[0m\u001b[37m\u001b[0m \u001b[1m0s\u001b[0m 44ms/step - loss: 0.0211 - mae: 0.1189 - val_loss: 0.0010 - val_mae: 0.0269\n",
      "Epoch 25/100\n",
      "\u001b[1m3/3\u001b[0m \u001b[32m━━━━━━━━━━━━━━━━━━━━\u001b[0m\u001b[37m\u001b[0m \u001b[1m0s\u001b[0m 42ms/step - loss: 0.0298 - mae: 0.1114 - val_loss: 0.0011 - val_mae: 0.0293\n",
      "Epoch 26/100\n",
      "\u001b[1m3/3\u001b[0m \u001b[32m━━━━━━━━━━━━━━━━━━━━\u001b[0m\u001b[37m\u001b[0m \u001b[1m0s\u001b[0m 47ms/step - loss: 0.0163 - mae: 0.0892 - val_loss: 7.8025e-04 - val_mae: 0.0207\n",
      "Epoch 27/100\n",
      "\u001b[1m3/3\u001b[0m \u001b[32m━━━━━━━━━━━━━━━━━━━━\u001b[0m\u001b[37m\u001b[0m \u001b[1m0s\u001b[0m 50ms/step - loss: 0.0301 - mae: 0.1385 - val_loss: 0.0013 - val_mae: 0.0328\n",
      "Epoch 28/100\n",
      "\u001b[1m3/3\u001b[0m \u001b[32m━━━━━━━━━━━━━━━━━━━━\u001b[0m\u001b[37m\u001b[0m \u001b[1m0s\u001b[0m 47ms/step - loss: 0.0188 - mae: 0.1064 - val_loss: 0.0053 - val_mae: 0.0679\n",
      "Epoch 29/100\n",
      "\u001b[1m3/3\u001b[0m \u001b[32m━━━━━━━━━━━━━━━━━━━━\u001b[0m\u001b[37m\u001b[0m \u001b[1m0s\u001b[0m 40ms/step - loss: 0.0180 - mae: 0.1149 - val_loss: 0.0061 - val_mae: 0.0732\n",
      "Epoch 30/100\n",
      "\u001b[1m3/3\u001b[0m \u001b[32m━━━━━━━━━━━━━━━━━━━━\u001b[0m\u001b[37m\u001b[0m \u001b[1m0s\u001b[0m 40ms/step - loss: 0.0235 - mae: 0.1096 - val_loss: 0.0021 - val_mae: 0.0404\n",
      "Epoch 31/100\n",
      "\u001b[1m3/3\u001b[0m \u001b[32m━━━━━━━━━━━━━━━━━━━━\u001b[0m\u001b[37m\u001b[0m \u001b[1m0s\u001b[0m 42ms/step - loss: 0.0254 - mae: 0.1244 - val_loss: 0.0021 - val_mae: 0.0397\n",
      "Epoch 32/100\n",
      "\u001b[1m3/3\u001b[0m \u001b[32m━━━━━━━━━━━━━━━━━━━━\u001b[0m\u001b[37m\u001b[0m \u001b[1m0s\u001b[0m 39ms/step - loss: 0.0306 - mae: 0.1189 - val_loss: 0.0157 - val_mae: 0.1228\n",
      "Epoch 33/100\n",
      "\u001b[1m3/3\u001b[0m \u001b[32m━━━━━━━━━━━━━━━━━━━━\u001b[0m\u001b[37m\u001b[0m \u001b[1m0s\u001b[0m 41ms/step - loss: 0.0263 - mae: 0.1194 - val_loss: 0.0232 - val_mae: 0.1505\n",
      "Epoch 34/100\n",
      "\u001b[1m3/3\u001b[0m \u001b[32m━━━━━━━━━━━━━━━━━━━━\u001b[0m\u001b[37m\u001b[0m \u001b[1m0s\u001b[0m 42ms/step - loss: 0.0205 - mae: 0.1115 - val_loss: 0.0167 - val_mae: 0.1273\n",
      "Epoch 35/100\n",
      "\u001b[1m3/3\u001b[0m \u001b[32m━━━━━━━━━━━━━━━━━━━━\u001b[0m\u001b[37m\u001b[0m \u001b[1m0s\u001b[0m 48ms/step - loss: 0.0149 - mae: 0.0964 - val_loss: 0.0016 - val_mae: 0.0362\n",
      "Epoch 36/100\n",
      "\u001b[1m3/3\u001b[0m \u001b[32m━━━━━━━━━━━━━━━━━━━━\u001b[0m\u001b[37m\u001b[0m \u001b[1m0s\u001b[0m 51ms/step - loss: 0.0212 - mae: 0.1203 - val_loss: 5.8461e-04 - val_mae: 0.0210\n",
      "Epoch 37/100\n",
      "\u001b[1m3/3\u001b[0m \u001b[32m━━━━━━━━━━━━━━━━━━━━\u001b[0m\u001b[37m\u001b[0m \u001b[1m0s\u001b[0m 45ms/step - loss: 0.0293 - mae: 0.1356 - val_loss: 0.0035 - val_mae: 0.0553\n",
      "Epoch 38/100\n",
      "\u001b[1m3/3\u001b[0m \u001b[32m━━━━━━━━━━━━━━━━━━━━\u001b[0m\u001b[37m\u001b[0m \u001b[1m0s\u001b[0m 44ms/step - loss: 0.0172 - mae: 0.1088 - val_loss: 0.0213 - val_mae: 0.1443\n",
      "Epoch 39/100\n",
      "\u001b[1m3/3\u001b[0m \u001b[32m━━━━━━━━━━━━━━━━━━━━\u001b[0m\u001b[37m\u001b[0m \u001b[1m0s\u001b[0m 44ms/step - loss: 0.0194 - mae: 0.1141 - val_loss: 0.0217 - val_mae: 0.1458\n",
      "Epoch 40/100\n",
      "\u001b[1m3/3\u001b[0m \u001b[32m━━━━━━━━━━━━━━━━━━━━\u001b[0m\u001b[37m\u001b[0m \u001b[1m0s\u001b[0m 44ms/step - loss: 0.0327 - mae: 0.1385 - val_loss: 0.0036 - val_mae: 0.0565\n",
      "Epoch 41/100\n",
      "\u001b[1m3/3\u001b[0m \u001b[32m━━━━━━━━━━━━━━━━━━━━\u001b[0m\u001b[37m\u001b[0m \u001b[1m0s\u001b[0m 43ms/step - loss: 0.0285 - mae: 0.1238 - val_loss: 0.0130 - val_mae: 0.1120\n",
      "Epoch 42/100\n",
      "\u001b[1m3/3\u001b[0m \u001b[32m━━━━━━━━━━━━━━━━━━━━\u001b[0m\u001b[37m\u001b[0m \u001b[1m0s\u001b[0m 46ms/step - loss: 0.0355 - mae: 0.1514 - val_loss: 0.0014 - val_mae: 0.0303\n",
      "Epoch 43/100\n",
      "\u001b[1m3/3\u001b[0m \u001b[32m━━━━━━━━━━━━━━━━━━━━\u001b[0m\u001b[37m\u001b[0m \u001b[1m0s\u001b[0m 39ms/step - loss: 0.0370 - mae: 0.1416 - val_loss: 0.0063 - val_mae: 0.0764\n",
      "Epoch 44/100\n",
      "\u001b[1m3/3\u001b[0m \u001b[32m━━━━━━━━━━━━━━━━━━━━\u001b[0m\u001b[37m\u001b[0m \u001b[1m0s\u001b[0m 41ms/step - loss: 0.0199 - mae: 0.1129 - val_loss: 0.0263 - val_mae: 0.1608\n",
      "Epoch 45/100\n",
      "\u001b[1m3/3\u001b[0m \u001b[32m━━━━━━━━━━━━━━━━━━━━\u001b[0m\u001b[37m\u001b[0m \u001b[1m0s\u001b[0m 44ms/step - loss: 0.0181 - mae: 0.1004 - val_loss: 0.0131 - val_mae: 0.1124\n",
      "Epoch 46/100\n",
      "\u001b[1m3/3\u001b[0m \u001b[32m━━━━━━━━━━━━━━━━━━━━\u001b[0m\u001b[37m\u001b[0m \u001b[1m0s\u001b[0m 41ms/step - loss: 0.0233 - mae: 0.1145 - val_loss: 0.0036 - val_mae: 0.0560\n",
      "Epoch 47/100\n",
      "\u001b[1m3/3\u001b[0m \u001b[32m━━━━━━━━━━━━━━━━━━━━\u001b[0m\u001b[37m\u001b[0m \u001b[1m0s\u001b[0m 44ms/step - loss: 0.0198 - mae: 0.1119 - val_loss: 0.0026 - val_mae: 0.0458\n",
      "Epoch 48/100\n",
      "\u001b[1m3/3\u001b[0m \u001b[32m━━━━━━━━━━━━━━━━━━━━\u001b[0m\u001b[37m\u001b[0m \u001b[1m0s\u001b[0m 45ms/step - loss: 0.0244 - mae: 0.1194 - val_loss: 0.0202 - val_mae: 0.1404\n",
      "Epoch 49/100\n",
      "\u001b[1m3/3\u001b[0m \u001b[32m━━━━━━━━━━━━━━━━━━━━\u001b[0m\u001b[37m\u001b[0m \u001b[1m0s\u001b[0m 44ms/step - loss: 0.0200 - mae: 0.1083 - val_loss: 0.0361 - val_mae: 0.1887\n",
      "Epoch 50/100\n",
      "\u001b[1m3/3\u001b[0m \u001b[32m━━━━━━━━━━━━━━━━━━━━\u001b[0m\u001b[37m\u001b[0m \u001b[1m0s\u001b[0m 42ms/step - loss: 0.0201 - mae: 0.1012 - val_loss: 0.0556 - val_mae: 0.2348\n",
      "Epoch 51/100\n",
      "\u001b[1m3/3\u001b[0m \u001b[32m━━━━━━━━━━━━━━━━━━━━\u001b[0m\u001b[37m\u001b[0m \u001b[1m0s\u001b[0m 46ms/step - loss: 0.0198 - mae: 0.0998 - val_loss: 0.0470 - val_mae: 0.2158\n",
      "Epoch 52/100\n",
      "\u001b[1m3/3\u001b[0m \u001b[32m━━━━━━━━━━━━━━━━━━━━\u001b[0m\u001b[37m\u001b[0m \u001b[1m0s\u001b[0m 48ms/step - loss: 0.0145 - mae: 0.0939 - val_loss: 0.0325 - val_mae: 0.1789\n",
      "Epoch 53/100\n",
      "\u001b[1m3/3\u001b[0m \u001b[32m━━━━━━━━━━━━━━━━━━━━\u001b[0m\u001b[37m\u001b[0m \u001b[1m0s\u001b[0m 33ms/step - loss: 0.0135 - mae: 0.0880 - val_loss: 0.0119 - val_mae: 0.1071\n",
      "Epoch 54/100\n",
      "\u001b[1m3/3\u001b[0m \u001b[32m━━━━━━━━━━━━━━━━━━━━\u001b[0m\u001b[37m\u001b[0m \u001b[1m0s\u001b[0m 37ms/step - loss: 0.0224 - mae: 0.1122 - val_loss: 0.0034 - val_mae: 0.0542\n",
      "Epoch 55/100\n",
      "\u001b[1m3/3\u001b[0m \u001b[32m━━━━━━━━━━━━━━━━━━━━\u001b[0m\u001b[37m\u001b[0m \u001b[1m0s\u001b[0m 36ms/step - loss: 0.0258 - mae: 0.1159 - val_loss: 0.0028 - val_mae: 0.0485\n",
      "Epoch 56/100\n",
      "\u001b[1m3/3\u001b[0m \u001b[32m━━━━━━━━━━━━━━━━━━━━\u001b[0m\u001b[37m\u001b[0m \u001b[1m0s\u001b[0m 38ms/step - loss: 0.0179 - mae: 0.1106 - val_loss: 0.0103 - val_mae: 0.0993\n",
      "Epoch 57/100\n",
      "\u001b[1m3/3\u001b[0m \u001b[32m━━━━━━━━━━━━━━━━━━━━\u001b[0m\u001b[37m\u001b[0m \u001b[1m0s\u001b[0m 33ms/step - loss: 0.0126 - mae: 0.0805 - val_loss: 0.0270 - val_mae: 0.1630\n",
      "Epoch 58/100\n",
      "\u001b[1m3/3\u001b[0m \u001b[32m━━━━━━━━━━━━━━━━━━━━\u001b[0m\u001b[37m\u001b[0m \u001b[1m0s\u001b[0m 34ms/step - loss: 0.0106 - mae: 0.0800 - val_loss: 0.0395 - val_mae: 0.1975\n",
      "Epoch 59/100\n",
      "\u001b[1m3/3\u001b[0m \u001b[32m━━━━━━━━━━━━━━━━━━━━\u001b[0m\u001b[37m\u001b[0m \u001b[1m0s\u001b[0m 44ms/step - loss: 0.0193 - mae: 0.1121 - val_loss: 0.0448 - val_mae: 0.2105\n",
      "Epoch 60/100\n",
      "\u001b[1m3/3\u001b[0m \u001b[32m━━━━━━━━━━━━━━━━━━━━\u001b[0m\u001b[37m\u001b[0m \u001b[1m0s\u001b[0m 34ms/step - loss: 0.0199 - mae: 0.1184 - val_loss: 0.0838 - val_mae: 0.2886\n",
      "Epoch 61/100\n",
      "\u001b[1m3/3\u001b[0m \u001b[32m━━━━━━━━━━━━━━━━━━━━\u001b[0m\u001b[37m\u001b[0m \u001b[1m0s\u001b[0m 34ms/step - loss: 0.0236 - mae: 0.1230 - val_loss: 0.1168 - val_mae: 0.3409\n",
      "Epoch 62/100\n",
      "\u001b[1m3/3\u001b[0m \u001b[32m━━━━━━━━━━━━━━━━━━━━\u001b[0m\u001b[37m\u001b[0m \u001b[1m0s\u001b[0m 34ms/step - loss: 0.0197 - mae: 0.0982 - val_loss: 0.1544 - val_mae: 0.3921\n",
      "Epoch 63/100\n",
      "\u001b[1m3/3\u001b[0m \u001b[32m━━━━━━━━━━━━━━━━━━━━\u001b[0m\u001b[37m\u001b[0m \u001b[1m0s\u001b[0m 35ms/step - loss: 0.0108 - mae: 0.0709 - val_loss: 0.2001 - val_mae: 0.4465\n",
      "Epoch 64/100\n",
      "\u001b[1m3/3\u001b[0m \u001b[32m━━━━━━━━━━━━━━━━━━━━\u001b[0m\u001b[37m\u001b[0m \u001b[1m0s\u001b[0m 38ms/step - loss: 0.0256 - mae: 0.1208 - val_loss: 0.1534 - val_mae: 0.3907\n",
      "Epoch 65/100\n",
      "\u001b[1m3/3\u001b[0m \u001b[32m━━━━━━━━━━━━━━━━━━━━\u001b[0m\u001b[37m\u001b[0m \u001b[1m0s\u001b[0m 38ms/step - loss: 0.0173 - mae: 0.1108 - val_loss: 0.1124 - val_mae: 0.3342\n",
      "Epoch 66/100\n",
      "\u001b[1m3/3\u001b[0m \u001b[32m━━━━━━━━━━━━━━━━━━━━\u001b[0m\u001b[37m\u001b[0m \u001b[1m0s\u001b[0m 35ms/step - loss: 0.0183 - mae: 0.1024 - val_loss: 0.1007 - val_mae: 0.3164\n",
      "Epoch 67/100\n",
      "\u001b[1m3/3\u001b[0m \u001b[32m━━━━━━━━━━━━━━━━━━━━\u001b[0m\u001b[37m\u001b[0m \u001b[1m0s\u001b[0m 35ms/step - loss: 0.0184 - mae: 0.1142 - val_loss: 0.0689 - val_mae: 0.2612\n",
      "Epoch 68/100\n",
      "\u001b[1m3/3\u001b[0m \u001b[32m━━━━━━━━━━━━━━━━━━━━\u001b[0m\u001b[37m\u001b[0m \u001b[1m0s\u001b[0m 41ms/step - loss: 0.0116 - mae: 0.0829 - val_loss: 0.0756 - val_mae: 0.2736\n",
      "Epoch 69/100\n",
      "\u001b[1m3/3\u001b[0m \u001b[32m━━━━━━━━━━━━━━━━━━━━\u001b[0m\u001b[37m\u001b[0m \u001b[1m0s\u001b[0m 36ms/step - loss: 0.0180 - mae: 0.1092 - val_loss: 0.0690 - val_mae: 0.2614\n",
      "Epoch 70/100\n",
      "\u001b[1m3/3\u001b[0m \u001b[32m━━━━━━━━━━━━━━━━━━━━\u001b[0m\u001b[37m\u001b[0m \u001b[1m0s\u001b[0m 36ms/step - loss: 0.0150 - mae: 0.0827 - val_loss: 0.0654 - val_mae: 0.2543\n",
      "Epoch 71/100\n",
      "\u001b[1m3/3\u001b[0m \u001b[32m━━━━━━━━━━━━━━━━━━━━\u001b[0m\u001b[37m\u001b[0m \u001b[1m0s\u001b[0m 35ms/step - loss: 0.0148 - mae: 0.0897 - val_loss: 0.0832 - val_mae: 0.2870\n",
      "Epoch 72/100\n",
      "\u001b[1m3/3\u001b[0m \u001b[32m━━━━━━━━━━━━━━━━━━━━\u001b[0m\u001b[37m\u001b[0m \u001b[1m0s\u001b[0m 57ms/step - loss: 0.0141 - mae: 0.0889 - val_loss: 0.1125 - val_mae: 0.3341\n",
      "Epoch 73/100\n",
      "\u001b[1m3/3\u001b[0m \u001b[32m━━━━━━━━━━━━━━━━━━━━\u001b[0m\u001b[37m\u001b[0m \u001b[1m0s\u001b[0m 39ms/step - loss: 0.0204 - mae: 0.1014 - val_loss: 0.1329 - val_mae: 0.3634\n",
      "Epoch 74/100\n",
      "\u001b[1m3/3\u001b[0m \u001b[32m━━━━━━━━━━━━━━━━━━━━\u001b[0m\u001b[37m\u001b[0m \u001b[1m0s\u001b[0m 40ms/step - loss: 0.0196 - mae: 0.1020 - val_loss: 0.1060 - val_mae: 0.3242\n",
      "Epoch 75/100\n",
      "\u001b[1m3/3\u001b[0m \u001b[32m━━━━━━━━━━━━━━━━━━━━\u001b[0m\u001b[37m\u001b[0m \u001b[1m0s\u001b[0m 34ms/step - loss: 0.0151 - mae: 0.1011 - val_loss: 0.0569 - val_mae: 0.2366\n",
      "Epoch 76/100\n",
      "\u001b[1m3/3\u001b[0m \u001b[32m━━━━━━━━━━━━━━━━━━━━\u001b[0m\u001b[37m\u001b[0m \u001b[1m0s\u001b[0m 34ms/step - loss: 0.0106 - mae: 0.0823 - val_loss: 0.0418 - val_mae: 0.2025\n",
      "Epoch 77/100\n",
      "\u001b[1m3/3\u001b[0m \u001b[32m━━━━━━━━━━━━━━━━━━━━\u001b[0m\u001b[37m\u001b[0m \u001b[1m0s\u001b[0m 34ms/step - loss: 0.0251 - mae: 0.1281 - val_loss: 0.0969 - val_mae: 0.3099\n",
      "Epoch 78/100\n",
      "\u001b[1m3/3\u001b[0m \u001b[32m━━━━━━━━━━━━━━━━━━━━\u001b[0m\u001b[37m\u001b[0m \u001b[1m0s\u001b[0m 34ms/step - loss: 0.0229 - mae: 0.1173 - val_loss: 0.1131 - val_mae: 0.3350\n",
      "Epoch 79/100\n",
      "\u001b[1m3/3\u001b[0m \u001b[32m━━━━━━━━━━━━━━━━━━━━\u001b[0m\u001b[37m\u001b[0m \u001b[1m0s\u001b[0m 35ms/step - loss: 0.0268 - mae: 0.1186 - val_loss: 0.0580 - val_mae: 0.2389\n",
      "Epoch 80/100\n",
      "\u001b[1m3/3\u001b[0m \u001b[32m━━━━━━━━━━━━━━━━━━━━\u001b[0m\u001b[37m\u001b[0m \u001b[1m0s\u001b[0m 35ms/step - loss: 0.0163 - mae: 0.0988 - val_loss: 0.0157 - val_mae: 0.1217\n",
      "Epoch 81/100\n",
      "\u001b[1m3/3\u001b[0m \u001b[32m━━━━━━━━━━━━━━━━━━━━\u001b[0m\u001b[37m\u001b[0m \u001b[1m0s\u001b[0m 36ms/step - loss: 0.0311 - mae: 0.1339 - val_loss: 0.0242 - val_mae: 0.1527\n",
      "Epoch 82/100\n",
      "\u001b[1m3/3\u001b[0m \u001b[32m━━━━━━━━━━━━━━━━━━━━\u001b[0m\u001b[37m\u001b[0m \u001b[1m0s\u001b[0m 37ms/step - loss: 0.0261 - mae: 0.1307 - val_loss: 0.0898 - val_mae: 0.2982\n",
      "Epoch 83/100\n",
      "\u001b[1m3/3\u001b[0m \u001b[32m━━━━━━━━━━━━━━━━━━━━\u001b[0m\u001b[37m\u001b[0m \u001b[1m0s\u001b[0m 37ms/step - loss: 0.0137 - mae: 0.0942 - val_loss: 0.1306 - val_mae: 0.3600\n",
      "Epoch 84/100\n",
      "\u001b[1m3/3\u001b[0m \u001b[32m━━━━━━━━━━━━━━━━━━━━\u001b[0m\u001b[37m\u001b[0m \u001b[1m0s\u001b[0m 33ms/step - loss: 0.0172 - mae: 0.0910 - val_loss: 0.1192 - val_mae: 0.3438\n",
      "Epoch 85/100\n",
      "\u001b[1m3/3\u001b[0m \u001b[32m━━━━━━━━━━━━━━━━━━━━\u001b[0m\u001b[37m\u001b[0m \u001b[1m0s\u001b[0m 34ms/step - loss: 0.0205 - mae: 0.1069 - val_loss: 0.0652 - val_mae: 0.2531\n",
      "Epoch 86/100\n",
      "\u001b[1m3/3\u001b[0m \u001b[32m━━━━━━━━━━━━━━━━━━━━\u001b[0m\u001b[37m\u001b[0m \u001b[1m0s\u001b[0m 38ms/step - loss: 0.0121 - mae: 0.0812 - val_loss: 0.0876 - val_mae: 0.2939\n",
      "Epoch 87/100\n",
      "\u001b[1m3/3\u001b[0m \u001b[32m━━━━━━━━━━━━━━━━━━━━\u001b[0m\u001b[37m\u001b[0m \u001b[1m0s\u001b[0m 37ms/step - loss: 0.0208 - mae: 0.0967 - val_loss: 0.1339 - val_mae: 0.3642\n",
      "Epoch 88/100\n",
      "\u001b[1m3/3\u001b[0m \u001b[32m━━━━━━━━━━━━━━━━━━━━\u001b[0m\u001b[37m\u001b[0m \u001b[1m0s\u001b[0m 33ms/step - loss: 0.0168 - mae: 0.0951 - val_loss: 0.1181 - val_mae: 0.3420\n",
      "Epoch 89/100\n",
      "\u001b[1m3/3\u001b[0m \u001b[32m━━━━━━━━━━━━━━━━━━━━\u001b[0m\u001b[37m\u001b[0m \u001b[1m0s\u001b[0m 45ms/step - loss: 0.0139 - mae: 0.0860 - val_loss: 0.0420 - val_mae: 0.2028\n",
      "Epoch 90/100\n",
      "\u001b[1m3/3\u001b[0m \u001b[32m━━━━━━━━━━━━━━━━━━━━\u001b[0m\u001b[37m\u001b[0m \u001b[1m0s\u001b[0m 37ms/step - loss: 0.0151 - mae: 0.0908 - val_loss: 0.0292 - val_mae: 0.1688\n",
      "Epoch 91/100\n",
      "\u001b[1m3/3\u001b[0m \u001b[32m━━━━━━━━━━━━━━━━━━━━\u001b[0m\u001b[37m\u001b[0m \u001b[1m0s\u001b[0m 37ms/step - loss: 0.0161 - mae: 0.1051 - val_loss: 0.0498 - val_mae: 0.2215\n",
      "Epoch 92/100\n",
      "\u001b[1m3/3\u001b[0m \u001b[32m━━━━━━━━━━━━━━━━━━━━\u001b[0m\u001b[37m\u001b[0m \u001b[1m0s\u001b[0m 38ms/step - loss: 0.0162 - mae: 0.1030 - val_loss: 0.0693 - val_mae: 0.2617\n",
      "Epoch 93/100\n",
      "\u001b[1m3/3\u001b[0m \u001b[32m━━━━━━━━━━━━━━━━━━━━\u001b[0m\u001b[37m\u001b[0m \u001b[1m0s\u001b[0m 39ms/step - loss: 0.0101 - mae: 0.0751 - val_loss: 0.0385 - val_mae: 0.1943\n",
      "Epoch 94/100\n",
      "\u001b[1m3/3\u001b[0m \u001b[32m━━━━━━━━━━━━━━━━━━━━\u001b[0m\u001b[37m\u001b[0m \u001b[1m0s\u001b[0m 37ms/step - loss: 0.0139 - mae: 0.0934 - val_loss: 0.0146 - val_mae: 0.1182\n",
      "Epoch 95/100\n",
      "\u001b[1m3/3\u001b[0m \u001b[32m━━━━━━━━━━━━━━━━━━━━\u001b[0m\u001b[37m\u001b[0m \u001b[1m0s\u001b[0m 38ms/step - loss: 0.0092 - mae: 0.0807 - val_loss: 0.0111 - val_mae: 0.1025\n",
      "Epoch 96/100\n",
      "\u001b[1m3/3\u001b[0m \u001b[32m━━━━━━━━━━━━━━━━━━━━\u001b[0m\u001b[37m\u001b[0m \u001b[1m0s\u001b[0m 37ms/step - loss: 0.0154 - mae: 0.0955 - val_loss: 0.0375 - val_mae: 0.1920\n",
      "Epoch 97/100\n",
      "\u001b[1m3/3\u001b[0m \u001b[32m━━━━━━━━━━━━━━━━━━━━\u001b[0m\u001b[37m\u001b[0m \u001b[1m0s\u001b[0m 38ms/step - loss: 0.0222 - mae: 0.1089 - val_loss: 0.0403 - val_mae: 0.1993\n",
      "Epoch 98/100\n",
      "\u001b[1m3/3\u001b[0m \u001b[32m━━━━━━━━━━━━━━━━━━━━\u001b[0m\u001b[37m\u001b[0m \u001b[1m0s\u001b[0m 40ms/step - loss: 0.0118 - mae: 0.0865 - val_loss: 0.0348 - val_mae: 0.1850\n",
      "Epoch 99/100\n",
      "\u001b[1m3/3\u001b[0m \u001b[32m━━━━━━━━━━━━━━━━━━━━\u001b[0m\u001b[37m\u001b[0m \u001b[1m0s\u001b[0m 36ms/step - loss: 0.0209 - mae: 0.1024 - val_loss: 0.0483 - val_mae: 0.2183\n",
      "Epoch 100/100\n",
      "\u001b[1m3/3\u001b[0m \u001b[32m━━━━━━━━━━━━━━━━━━━━\u001b[0m\u001b[37m\u001b[0m \u001b[1m0s\u001b[0m 38ms/step - loss: 0.0261 - mae: 0.1256 - val_loss: 0.0697 - val_mae: 0.2626\n"
     ]
    },
    {
     "data": {
      "text/plain": [
       "<keras.src.callbacks.history.History at 0x20d43bd6870>"
      ]
     },
     "execution_count": 82,
     "metadata": {},
     "output_type": "execute_result"
    }
   ],
   "source": [
    "from sklearn.model_selection import train_test_split\n",
    "\n",
    "X_train, X_test, y_train, y_test = train_test_split(X, y, test_size=0.2, shuffle=False)\n",
    "\n",
    "model.fit(X_train, y_train, epochs=100, batch_size=16, validation_split=0.1, verbose=1)\n"
   ]
  },
  {
   "cell_type": "code",
   "execution_count": 83,
   "id": "8544f745",
   "metadata": {},
   "outputs": [
    {
     "name": "stdout",
     "output_type": "stream",
     "text": [
      "\u001b[1m1/1\u001b[0m \u001b[32m━━━━━━━━━━━━━━━━━━━━\u001b[0m\u001b[37m\u001b[0m \u001b[1m0s\u001b[0m 307ms/step\n"
     ]
    }
   ],
   "source": [
    "y_pred = model.predict(X_test)\n",
    "\n",
    "cpi_col = \"Consumer Price Index  (2012=100)\"\n",
    "cpi_index = list(y_subset.columns).index(cpi_col)\n",
    "dummy_pred = np.zeros((len(y_pred), len(y_subset.columns)))\n",
    "dummy_test = np.zeros((len(y_test), len(y_subset.columns)))\n",
    "\n",
    "\n",
    "y_pred_last = y_pred[:, -1, 0] if y_pred.ndim == 3 else y_pred[:, -1]\n",
    "dummy_pred[:, cpi_index] = y_pred_last\n",
    "dummy_test[:, cpi_index] = y_test.flatten()\n",
    "y_pred_unscaled = scaler.inverse_transform(dummy_pred)[:, cpi_index]\n",
    "y_test_unscaled = scaler.inverse_transform(dummy_test)[:, cpi_index]"
   ]
  },
  {
   "cell_type": "code",
   "execution_count": 84,
   "id": "937553e6",
   "metadata": {},
   "outputs": [
    {
     "name": "stdout",
     "output_type": "stream",
     "text": [
      "MAE: 1.71\n",
      "MAPE: 0.89%\n"
     ]
    }
   ],
   "source": [
    "mae = mean_absolute_error(y_test_unscaled, y_pred_unscaled)\n",
    "mape = np.mean(np.abs((y_test_unscaled - y_pred_unscaled) / y_test_unscaled)) * 100\n",
    "\n",
    "print(f\"MAE: {mae:.2f}\")\n",
    "print(f\"MAPE: {mape:.2f}%\")"
   ]
  },
  {
   "cell_type": "code",
   "execution_count": 85,
   "id": "9dd62fbf",
   "metadata": {},
   "outputs": [
    {
     "data": {
      "text/plain": [
       "(<Figure size 1600x400 with 1 Axes>, <Axes: ylabel='y_test'>)"
      ]
     },
     "execution_count": 85,
     "metadata": {},
     "output_type": "execute_result"
    },
    {
     "data": {
      "image/png": "[encoded data removed]",
      "text/plain": [
       "<Figure size 1600x400 with 1 Axes>"
      ]
     },
     "metadata": {},
     "output_type": "display_data"
    }
   ],
   "source": [
    "y_test_series = pd.Series(y_test_unscaled.flatten(), name=\"y_test\")\n",
    "y_pred_series = pd.Series(y_pred_unscaled.flatten(), name=\"y_pred\")\n",
    "\n",
    "plot_series(y_test_series, y_pred_series, labels=[\"y_test\", \"y_pred\"])"
   ]
  },
  {
   "cell_type": "code",
   "execution_count": 86,
   "id": "d9f66bf3",
   "metadata": {},
   "outputs": [
    {
     "data": {
      "text/plain": [
       "(<Figure size 1600x400 with 1 Axes>,\n",
       " <Axes: ylabel='Consumer Price Index  (2012=100)'>)"
      ]
     },
     "execution_count": 86,
     "metadata": {},
     "output_type": "execute_result"
    },
    {
     "data": {
      "image/png": "[encoded data removed]",
      "text/plain": [
       "<Figure size 1600x400 with 1 Axes>"
      ]
     },
     "metadata": {},
     "output_type": "display_data"
    }
   ],
   "source": [
    "residuals = y_actual - cpi_forecast_restored\n",
    "plot_series(residuals, labels=[\"Residuals\"])"
   ]
  },
  {
   "cell_type": "code",
   "execution_count": 87,
   "id": "4f4d76a9",
   "metadata": {},
   "outputs": [
    {
     "data": {
      "image/png": "[encoded data removed]",
      "text/plain": [
       "<Figure size 640x480 with 1 Axes>"
      ]
     },
     "metadata": {},
     "output_type": "display_data"
    }
   ],
   "source": [
    "from statsmodels.graphics.tsaplots import plot_acf\n",
    "\n",
    "plot_acf(residuals, lags=10)\n",
    "plt.title('Residual Autocorrelation')\n",
    "plt.show()\n"
   ]
  },
  {
   "cell_type": "markdown",
   "id": "e4da5423",
   "metadata": {},
   "source": [
    "No reidual autocorrelation suggests that the model has fully captured the temporal structure"
   ]
  },
  {
   "cell_type": "code",
   "execution_count": null,
   "id": "5d4942ac",
   "metadata": {},
   "outputs": [],
   "source": []
  }
 ],
 "metadata": {
  "kernelspec": {
   "display_name": "CIP",
   "language": "python",
   "name": "python3"
  },
  "language_info": {
   "codemirror_mode": {
    "name": "ipython",
    "version": 3
   },
   "file_extension": ".py",
   "mimetype": "text/x-python",
   "name": "python",
   "nbconvert_exporter": "python",
   "pygments_lexer": "ipython3",
   "version": "3.12.11"
  }
 },
 "nbformat": 4,
 "nbformat_minor": 5
}
